{
 "cells": [
  {
   "cell_type": "code",
   "execution_count": 10,
   "metadata": {},
   "outputs": [],
   "source": [
    "import numpy as np\n",
    "import matplotlib.pyplot as plt\n",
    "\n",
    "\n",
    "def error_logistic(predection, actual):\n",
    "    e = 0\n",
    "    for i in range(len(predection)):\n",
    "        # print('predection[i]:', predection[i])\n",
    "        # print('actual[i]:', actual[i])\n",
    "        # print('(predection[i]-actual[i])**2:', (predection[i]-actual[i])**2)\n",
    "        e = e + ((actual[i]*np.log(predection[i])) + ((1-actual[i])*np.log(1-predection[i])))\n",
    "\n",
    "    return -e/len(predection)\n",
    "\n",
    "def compute_cost_logistic(X, y, w, b):\n",
    "    m = X.shape[0]\n",
    "    cost = 0.0\n",
    "    for i in range(m):\n",
    "        z_i = np.dot(X[i],w) + b\n",
    "        f_wb_i = sigmoid(z_i)\n",
    "        cost +=  -y[i]*np.log(f_wb_i) - (1-y[i])*np.log(1-f_wb_i)\n",
    "    cost = cost / m\n",
    "    return cost\n",
    "\n",
    "def sigmoid(x):\n",
    "    v = 1/(1+np.exp(-x))\n",
    "    return v\n",
    "\n",
    "def predictions_logistic(X, theta):\n",
    "    prediction = sigmoid(np.dot(X, theta))\n",
    "    return prediction\n",
    "\n",
    "\n",
    "def gradient_logistic(X, prediction, actual):\n",
    "    length, variable = X.shape\n",
    "    temp = []\n",
    "    for j in range(variable):\n",
    "        theta_j = 0\n",
    "        for i in range(length):\n",
    "            theta_j = theta_j + (prediction[i] - actual[i])*X[i][j]\n",
    "        \n",
    "        temp.append(theta_j/length)\n",
    "    return temp\n",
    "    \n",
    "\n",
    "def gradient_descent_logistic(X, y, learning_rate= 0.01):\n",
    "    m = len(y)  # Number of training examples\n",
    "    n = X.shape[1]  # Number of features\n",
    "    theta = np.zeros((n, 1))  # Initialize parameters with zeros\n",
    "    # theta = np.zeros(n)\n",
    "    pred=predictions_logistic(X,theta)\n",
    "    e = 0\n",
    "    previous_e = 0\n",
    "    error_diff = 1\n",
    "    error_at_each_step=[]\n",
    "    while error_diff > 0.0001:\n",
    "        # Calculate predictions_logistic\n",
    "        pred = predictions_logistic(X, theta)\n",
    "        previous_e = e\n",
    "        # Calculate error\n",
    "        e = error_logistic(pred, y)\n",
    "        error_at_each_step.append(e)\n",
    "        # Calculate gradient\n",
    "        grad = gradient_logistic(X, pred, y)\n",
    "        theta = [theta[i] - learning_rate * grad[i] for i in range(n)]\n",
    "        error_diff = abs(e-previous_e)\n",
    "        # print('e:', e)\n",
    "    return theta, error_at_each_step\n",
    "\n",
    "def add_bias_variable(X):\n",
    "    n = X.shape[0]\n",
    "    X_b = np.concatenate((np.ones((n,1)),X), axis=1)\n",
    "    return X_b"
   ]
  },
  {
   "cell_type": "code",
   "execution_count": 16,
   "metadata": {},
   "outputs": [
    {
     "name": "stdout",
     "output_type": "stream",
     "text": [
      "[0.5 0.5 0.5 0.5 0.5 0.5]\n",
      "compute_error_logistic: [0.69314718]\n",
      "error_logistic: 0.6931471805599453\n",
      "[[0.13933728]\n",
      " [0.15331775]\n",
      " [0.16842646]\n",
      " [0.89945471]\n",
      " [0.95762389]\n",
      " [0.85109447]]\n",
      "predicted class on training set: [[0]\n",
      " [0]\n",
      " [0]\n",
      " [1]\n",
      " [1]\n",
      " [1]]\n"
     ]
    }
   ],
   "source": [
    "X = np.array([[0.5,1.5], [1,1],[1.5,0.5],[3,0.5],[2,2],[1,2.5]])\n",
    "w=np.array([0,0])\n",
    "b = np.array([0])\n",
    "y = np.array([0,0,0,1,1,1])\n",
    "X_bias = add_bias_variable(X)\n",
    "theta = np.concatenate((b,w), axis=0)\n",
    "X_pred = predictions_logistic(X_bias, theta)\n",
    "print(X_pred)\n",
    "\n",
    "print('compute_error_logistic:', compute_cost_logistic(X,y,w,b))\n",
    "print('error_logistic:', error_logistic(X_pred, y))\n",
    "\n",
    "theta, error_at_each_step = gradient_descent_logistic(X_bias, y, learning_rate= 0.1)\n",
    "# print(theta)\n",
    "train_predict_value = predictions_logistic(X_bias, theta)\n",
    "print(train_predict_value)\n",
    "predict_class = (train_predict_value > 0.5).astype(int)\n",
    "print('predicted class on training set:', predict_class)\n",
    "\n"
   ]
  },
  {
   "cell_type": "code",
   "execution_count": 19,
   "metadata": {},
   "outputs": [
    {
     "name": "stdout",
     "output_type": "stream",
     "text": [
      "accuracy of prediction: 1.0\n"
     ]
    }
   ],
   "source": [
    "from sklearn.metrics import accuracy_score\n",
    "accuracy=accuracy_score(y,predict_class)\n",
    "\n",
    "print('accuracy of prediction:', accuracy)"
   ]
  }
 ],
 "metadata": {
  "kernelspec": {
   "display_name": "Python 3",
   "language": "python",
   "name": "python3"
  },
  "language_info": {
   "codemirror_mode": {
    "name": "ipython",
    "version": 3
   },
   "file_extension": ".py",
   "mimetype": "text/x-python",
   "name": "python",
   "nbconvert_exporter": "python",
   "pygments_lexer": "ipython3",
   "version": "3.12.2"
  }
 },
 "nbformat": 4,
 "nbformat_minor": 2
}
